{
 "cells": [
  {
   "cell_type": "markdown",
   "metadata": {},
   "source": [
    "# Componentes de Software\n",
    "\n",
    "A seguir são reunidos alguns conceitos importantes para se entender o princípio de **Componentes de Software**.\n",
    "\n",
    "Em linhas gerais, um componente é um módulo de software reusável, que se liga aos seus parceiros exclusivamente através de interfaces. Apresentaremos aqui uma abordagem típica de ligação de componentes baseada em interfaces e conexões:\n",
    "* **Interfaces** - expressam os serviços providos pelos componentes, declarados através de `interfaces` Java;\n",
    "* **Conexões** - é a forma como componentes são ligados entre si; a partir delas um componente toma conhecimento do outro para que se comuniquem.\n",
    "\n",
    "## Interfaces\n",
    "\n",
    "Idealmente, todas as funcionalidades de um componente deveriam ser acessadas exclusivamente através de interfaces.\n",
    "\n",
    "Vamos analisar o processo de definição do `DataSetComponent` como um componente de software. Considerando que o código a seguir é uma versão inicial do componente, uma representação visual para o mesmo pode ser feita em UML, conforme segue:\n",
    "\n",
    "![Componente](console-dataset-a.png)\n",
    "\n",
    "Veja a seguir a representação em Java:\n",
    "\n",
    "~~~java\n",
    "public interface IDataSetProperties {\n",
    "  public String getDataSource();\n",
    "  public void setDataSource(String dataSource);\n",
    "}\n",
    "\n",
    "public interface ITableProducer {\n",
    "  String[] requestAttributes();\n",
    "  String[][] requestInstances();\n",
    "}\n",
    "~~~\n",
    "\n",
    "Note que cada interface que ele disponibiliza é apresentada na forma de uma haste com um círculo na ponta.\n",
    "\n",
    "Como a interface `IDataSetProperties` tem métodos `get` e `set` para definir a propriedade `DataSource`, em vez de representar essa interface da forma tradicional, podemos representá-la na forma de uma propriedade associada ao componente como segue:\n",
    "\n",
    "![Componente](console-dataset-b.png)\n",
    "\n",
    "A representação de propriedades não é padrão UML, mas é usada por algumas extensões. Isso introduz um terceiro elemento usual em algumas implementações de componentes:\n",
    "\n",
    "* **Propriedades** - podem ser usadas como mecanismos de configuração externa do componente; por exemplo, através da propriedade `dataSource` é possível externamente se configurar a fonte de dados do componente.\n",
    "\n",
    "A partir de agora, criaremos uma interface específica para a modificação de propriedades e usaremos a representação na forma de propriedade.\n",
    "\n",
    "Para englobar todas as interfaces em uma única, foi usada a estratégia de criar uma interface para o componente (`IDataSet`) unificando as demais na forma de herança:\n",
    "\n",
    "~~~java\n",
    "public interface IDataSet extends IDataSetProperties, ITableProducer {\n",
    "}\n",
    "~~~\n",
    "\n",
    "Essa estratégia será adotada em todos os componentes."
   ]
  },
  {
   "cell_type": "markdown",
   "metadata": {},
   "source": [
    "## Conexões\n",
    "\n",
    "Uma das formas mais comuns de comunicação entre componentes é a criação de uma conexão entre eles. Em linguagens orientadas a objetos uma estratégia consiste em um objeto (componente) guardar a referência de outro objeto (componente).\n",
    "\n",
    "Utilizaremos um método padrão chamado `connect` que conecta dois componentes. Para isso um dos objetos recebe a referência de outro:\n",
    "~~~java\n",
    "public void connect(ITableProducer producer)\n",
    "~~~\n",
    "\n",
    "Esse método recebe a referência para qualquer objeto que implementa a interface `ITableProducer` e a guarda. A referência é posteriormente usada para a comunicação entre os dois objetos.\n",
    "\n",
    "# Interface Requerida\n",
    "\n",
    "O ideal é que tudo seja explícito e que haja uma interface para realizar essa conexão. Desse modo, criaremos uma interface chamada `ITableReceptacle`. Ela define o método para se estabelecer a conexão com objetos que têm a interface `ITableProducer`.\n",
    "\n",
    "~~~java\n",
    "public interface ITableReceptacle {\n",
    "  public void connect(ITableProducer producer);\n",
    "}\n",
    "~~~\n",
    "\n",
    "A interface requerida é representada visualmente por um meio círculo e indica o nome da interface que ela requer:\n",
    "\n",
    "![Componente](console-dataset-d.svg)\n",
    "\n",
    "Outra maneira bastante usual de representar os dois componentes conectados é ligando diretamente a interface provida com a requerida:\n",
    "\n",
    "![Componente](console-dataset-e.svg)\n",
    "\n",
    "Para tornar o componente `ConsoleComponent` completamente acessível por interfaces, acrescentamos outra interface para o seu método `update()`.\n",
    "\n",
    "~~~java\n",
    "public interface IConsoleUpdate {\n",
    "  public void update();\n",
    "}\n",
    "~~~\n",
    "\n",
    "O Diagrama completo fica:\n",
    "\n",
    "![Componente](console-dataset-f.svg)\n",
    "\n",
    "Como foi feito antes, usamos a interface `IConsole` para juntar as duas outras interfaces através da herança:\n",
    "\n",
    "~~~java\n",
    "public interface IConsole extends ITableReceptacle, IConsoleUpdate {\n",
    "}\n",
    "~~~"
   ]
  },
  {
   "cell_type": "markdown",
   "metadata": {},
   "source": [
    "# Composição de Componentes\n",
    "\n",
    "Vamos ilustrar agora como criar uma composição de componentes. Inicialmente, vamos importar a biblioteca onde estão implementados:"
   ]
  },
  {
   "cell_type": "code",
   "execution_count": 3,
   "metadata": {},
   "outputs": [],
   "source": [
    "%classpath add jar ../../../lib/component-catalog-2020-08-04.jar"
   ]
  },
  {
   "cell_type": "markdown",
   "metadata": {},
   "source": [
    "## Usando a Interface Requerida\n",
    "\n",
    "Note no código a seguir que ambos os componentes passam a ser tratados completamente a partir de suas interfaces. Mais adiante analisaremos a importância de realizar dessa maneira."
   ]
  },
  {
   "cell_type": "code",
   "execution_count": 4,
   "metadata": {},
   "outputs": [
    {
     "name": "stdout",
     "output_type": "stream",
     "text": [
      "=== Attributes ===\n",
      "name, age, paralysis, yellow_tong, member_loss, chest_pain, trembling_finger, severe_anger, history_bacteria, diagnostic, days_recovery, has_disease\n",
      "\n",
      "=== Instances ===\n",
      "Rot Donnadd, 43, t, t, f, f, f, f, f, bacterial_infection, 9, t\n",
      "Pid Mught, 38, f, t, f, f, f, f, f, bacterial_infection, 7, t\n",
      "Thulk Lebbimp, 63, f, t, f, f, t, f, t, bite_deficit, 10, t\n",
      "Bouvossam Damme, 71, f, t, t, f, t, f, f, bite_deficit, 13, t\n",
      "Pirg Zall, 48, f, f, t, t, f, f, f, viral_infection, 4, t\n",
      "Nullon Rackindock, 23, f, f, t, f, f, t, f, fights, 8, f\n",
      "Shor Splitturch, 35, f, f, f, f, f, t, f, nothing, 0, f\n",
      "Ger Ackeng, 66, f, f, f, f, t, f, f, bite_deficit, 11, t\n",
      "Gleldo Shruck, 45, f, t, f, t, f, f, f, bacterial_infection, 8, t\n",
      "Nadross Pilch, 60, f, f, f, t, f, f, f, viral_infection, 8, t\n",
      "Sadrent Pemmir, 73, f, t, t, f, f, f, t, bite_deficit, 14, t\n",
      "Read Rait, 55, t, t, f, f, f, f, f, bacterial_infection, 9, t\n",
      "Dallun Whadder, 15, f, f, f, t, f, f, t, viral_infection, 2, t\n",
      "Eapplar Thorg, 25, f, f, t, f, f, f, f, fights, 5, f\n",
      "Blottork Patter, 68, f, t, f, f, t, f, t, bite_deficit, 12, t\n",
      "Darrutt Bottall, 75, f, t, t, f, t, f, f, bite_deficit, 16, t\n",
      "Gallir Shauch, 20, f, f, f, t, f, f, f, fights, 12, f\n",
      "Dirpe Polnay, 39, f, t, f, f, f, f, f, bacterial_infection, 7, t\n",
      "Harrimp Fottiem, 65, f, f, f, f, t, f, f, bite_deficit, 9, t\n"
     ]
    },
    {
     "data": {
      "text/plain": [
       "null"
      ]
     },
     "execution_count": 4,
     "metadata": {},
     "output_type": "execute_result"
    }
   ],
   "source": [
    "import pt.c08componentes.s20catalog.s10ds.*;\n",
    "import pt.c08componentes.s20catalog.s20console.*;\n",
    "\n",
    "IDataSet dataset = new DataSetComponent();\n",
    "dataset.setDataSource(\"../../../db/zombie/zombie-health-spreadsheet.csv\");\n",
    "\n",
    "IConsole console = new ConsoleComponent();\n",
    "console.connect(dataset);\n",
    "\n",
    "console.update();"
   ]
  },
  {
   "cell_type": "markdown",
   "metadata": {},
   "source": [
    "# Projection Component\n",
    "\n",
    "Componente que realiza o recorte (projeção) de colunas em uma tabela.\n",
    "\n",
    "![Projection Component](projection-component.png)\n",
    "\n",
    "~~~java\n",
    "public interface IProjectionProperties {\n",
    "  String[] getAttributes();\n",
    "  void setAttributes(String attribute[]);\n",
    "}\n",
    "\n",
    "public interface IProjection extends IProjectionProperties, ITableProducer, ITableReceptacle {\n",
    "}\n",
    "~~~\n",
    "\n",
    "Recebe uma tabela de entrada (através da interface requerida `ITableProducer`) e gera uma tabela com as colunas recortadas (através da interface provida `ITableProducer`). A propriedade `attributes` contém um vetor com o nome das colunas a serem filtradas.\n",
    "\n",
    "## Tarefa\n",
    "\n",
    "Conecte o componente `DataSet` aos componentes de projeção e console para mostrar na tela as seguintes colunas: `name` e `age`."
   ]
  },
  {
   "cell_type": "code",
   "execution_count": 5,
   "metadata": {},
   "outputs": [
    {
     "name": "stdout",
     "output_type": "stream",
     "text": [
      "=== Attributes ===\n",
      "name, age\n",
      "\n",
      "=== Instances ===\n",
      "Rot Donnadd, 43\n",
      "Pid Mught, 38\n",
      "Thulk Lebbimp, 63\n",
      "Bouvossam Damme, 71\n",
      "Pirg Zall, 48\n",
      "Nullon Rackindock, 23\n",
      "Shor Splitturch, 35\n",
      "Ger Ackeng, 66\n",
      "Gleldo Shruck, 45\n",
      "Nadross Pilch, 60\n",
      "Sadrent Pemmir, 73\n",
      "Read Rait, 55\n",
      "Dallun Whadder, 15\n",
      "Eapplar Thorg, 25\n",
      "Blottork Patter, 68\n",
      "Darrutt Bottall, 75\n",
      "Gallir Shauch, 20\n",
      "Dirpe Polnay, 39\n",
      "Harrimp Fottiem, 65\n"
     ]
    },
    {
     "data": {
      "text/plain": [
       "null"
      ]
     },
     "execution_count": 5,
     "metadata": {},
     "output_type": "execute_result"
    }
   ],
   "source": [
    "import pt.c08componentes.s20catalog.s10ds.*;\n",
    "import pt.c08componentes.s20catalog.s20console.*;\n",
    "import pt.c08componentes.s20catalog.s30projection.*;\n",
    "\n",
    "IDataSet dataset = new DataSetComponent();\n",
    "dataset.setDataSource(\"../../../db/zombie/zombie-health-spreadsheet.csv\");\n",
    "    \n",
    "IProjection projection = new ProjectionComponent();\n",
    "String[] nome = {\"name\", \"age\"};\n",
    "projection.setAttributes(nome);\n",
    "projection.connect(dataset);\n",
    "   \n",
    "IConsole console = new ConsoleComponent();\n",
    "console.connect(projection);\n",
    "    \n",
    "console.update();\n",
    "\n"
   ]
  },
  {
   "cell_type": "markdown",
   "metadata": {},
   "source": [
    "# Selection Component\n",
    "\n",
    "Componente que seleciona linhas da tabela que atendem a uma certa condição.\n",
    "\n",
    "![Selection Component](selection-component.png)\n",
    "\n",
    "~~~java\n",
    "public interface ISelectionProperties {\n",
    "  String getAttribute();\n",
    "  void setAttribute(String attributeA);\n",
    "  public String getOperator();\n",
    "  public void setOperator(String operator);\n",
    "  public String getValue();\n",
    "  public void setValue(String value);\n",
    "  boolean isNominalComparison();\n",
    "  void setNominalComparison(boolean nominalComparison);\n",
    "}\n",
    "~~~\n",
    "\n",
    "Os três propriedades `attribute`, `operator` e `value` definem a expressão de seleção. Por exemplo, a seguinte seleção `name = Rot Donnadd` seria:\n",
    "* **attribute:** `name`\n",
    "* **operator:** `=`\n",
    "* **value:** ` Rot Donnadd`\n",
    "\n",
    "A propriedade `nominalComparison` indica se a comparação será entre strings (`true`) ou números (`false`). O padrão é `true`.\n",
    "\n",
    "A interface unificada do componente é:\n",
    "~~~java\n",
    "public interface ISelection extends ISelectionProperties, ITableProducer, ITableReceptacle {\n",
    "}\n",
    "~~~\n",
    "\n",
    "## Tarefa\n",
    "\n",
    "Conecte o componente `DataSet` aos componentes de seleção e console para mostrar na tela aquelas instâncias cujo diagnóstico seja `bacterial_infection`."
   ]
  },
  {
   "cell_type": "code",
   "execution_count": 6,
   "metadata": {},
   "outputs": [
    {
     "name": "stdout",
     "output_type": "stream",
     "text": [
      "=== Attributes ===\n",
      "name, age, paralysis, yellow_tong, member_loss, chest_pain, trembling_finger, severe_anger, history_bacteria, diagnostic, days_recovery, has_disease\n",
      "\n",
      "=== Instances ===\n",
      "Rot Donnadd, 43, t, t, f, f, f, f, f, bacterial_infection, 9, t\n",
      "Pid Mught, 38, f, t, f, f, f, f, f, bacterial_infection, 7, t\n",
      "Gleldo Shruck, 45, f, t, f, t, f, f, f, bacterial_infection, 8, t\n",
      "Read Rait, 55, t, t, f, f, f, f, f, bacterial_infection, 9, t\n",
      "Dirpe Polnay, 39, f, t, f, f, f, f, f, bacterial_infection, 7, t\n"
     ]
    },
    {
     "data": {
      "text/plain": [
       "null"
      ]
     },
     "execution_count": 6,
     "metadata": {},
     "output_type": "execute_result"
    }
   ],
   "source": [
    "import pt.c08componentes.s20catalog.s10ds.*;\n",
    "import pt.c08componentes.s20catalog.s20console.*;\n",
    "import pt.c08componentes.s20catalog.s40selection.*;\n",
    "\n",
    "IDataSet dataset = new DataSetComponent();\n",
    "dataset.setDataSource(\"../../../db/zombie/zombie-health-spreadsheet.csv\");\n",
    "   \n",
    "ISelection selectionp = new SelectionComponent();\n",
    "    \n",
    "selectionp.setAttribute(\"diagnostic\");\n",
    "selectionp.setOperator(\"=\");\n",
    "selectionp.setValue(\"bacterial_infection\");\n",
    "selectionp.connect(dataset);\n",
    "  \n",
    "IConsole console = new ConsoleComponent();\n",
    "console.connect(selectionp);\n",
    "    \n",
    "    \n",
    "console.update();\n",
    "\n"
   ]
  },
  {
   "cell_type": "markdown",
   "metadata": {},
   "source": [
    "## Tarefa\n",
    "\n",
    "Conecte os componentes que você achar necessários para mostrar no console as colunas `name` e `age` de zumbis com `bacterial_infection`."
   ]
  },
  {
   "cell_type": "code",
   "execution_count": 7,
   "metadata": {},
   "outputs": [
    {
     "name": "stdout",
     "output_type": "stream",
     "text": [
      "=== Attributes ===\n",
      "name, age, diagnostic\n",
      "\n",
      "=== Instances ===\n",
      "Rot Donnadd, 43, bacterial_infection\n",
      "Pid Mught, 38, bacterial_infection\n",
      "Gleldo Shruck, 45, bacterial_infection\n",
      "Read Rait, 55, bacterial_infection\n",
      "Dirpe Polnay, 39, bacterial_infection\n"
     ]
    },
    {
     "data": {
      "text/plain": [
       "null"
      ]
     },
     "execution_count": 7,
     "metadata": {},
     "output_type": "execute_result"
    }
   ],
   "source": [
    "import pt.c08componentes.s20catalog.s10ds.*;\n",
    "import pt.c08componentes.s20catalog.s20console.*;\n",
    "import pt.c08componentes.s20catalog.s40selection.*;\n",
    "import pt.c08componentes.s20catalog.s30projection.*;\n",
    "\n",
    "\n",
    "IDataSet dataset = new DataSetComponent();\n",
    "dataset.setDataSource(\"../../../db/zombie/zombie-health-spreadsheet.csv\");\n",
    "  \n",
    "IProjection projection = new ProjectionComponent();\n",
    "String[] nome = {\"name\", \"age\", \"diagnostic\"};\n",
    "projection.setAttributes(nome);\n",
    "projection.connect(dataset);\n",
    "    \n",
    "ISelection selectionp = new SelectionComponent();\n",
    "    \n",
    "selectionp.setAttribute(\"diagnostic\");\n",
    "selectionp.setOperator(\"=\");\n",
    "selectionp.setValue(\"bacterial_infection\");\n",
    "selectionp.connect(projection);\n",
    "    \n",
    "IConsole console = new ConsoleComponent();\n",
    "console.connect(selectionp);\n",
    "    \n",
    "console.update();\n"
   ]
  },
  {
   "cell_type": "markdown",
   "metadata": {},
   "source": [
    "# Bubble Chart Component\n",
    "\n",
    "Componente que plota um gráfico de dispersão de uma tabela recebida como entrada. Para isso a tabela deve ter recortadas apenas as duas colunas que serão apresentadas.\n",
    "\n",
    "![Bubble Chart Component](chartbubble-component.png)\n",
    "\n",
    "As propriedades `Title`, `XTitle` e `YTitle` são os títulos do gráfico, do eixo X e Y respectivamente.\n",
    "\n",
    "A interface `IRun` dispõe de métodos para ativar e desativar a plotagem do gráfico (métodos `start` e `stop` respectivamente):\n",
    "\n",
    "~~~java\n",
    "public interface IRun {\n",
    "  public boolean start();\n",
    "  public boolean stop();\n",
    "}\n",
    "\n",
    "public interface IChart extends ITableReceptacle, IRun, IChartProperties {\n",
    "  /* Component Interfaces Set */\n",
    "}\n",
    "~~~\n",
    "\n",
    "A interface unificada é:\n",
    "\n",
    "~~~java\n",
    "public interface IChart extends ITableReceptacle, IRun, IChartProperties {\n",
    "  /* Component Interfaces Set */\n",
    "}\n",
    "~~~\n",
    "\n",
    "O comando a seguir importa uma biblioteca gráfica necessária para o componente:"
   ]
  },
  {
   "cell_type": "code",
   "execution_count": 8,
   "metadata": {},
   "outputs": [
    {
     "data": {
      "application/vnd.jupyter.widget-view+json": {
       "model_id": "0cc15a60-e475-4f53-ae43-a87ac082de30",
       "version_major": 2,
       "version_minor": 0
      },
      "method": "display_data"
     },
     "metadata": {},
     "output_type": "display_data"
    }
   ],
   "source": [
    "%classpath add jar ../../../lib/xchart-3.5.2.jar"
   ]
  },
  {
   "cell_type": "code",
   "execution_count": 9,
   "metadata": {
    "jupyter": {
     "source_hidden": true
    }
   },
   "outputs": [
    {
     "data": {
      "text/plain": [
       "com.twosigma.beaker.javash.bkrc74b2e81.ChartBubbleComponent"
      ]
     },
     "execution_count": 9,
     "metadata": {},
     "output_type": "execute_result"
    }
   ],
   "source": [
    "import java.util.ArrayList;\n",
    "import java.util.Hashtable;\n",
    "import java.util.List;\n",
    "\n",
    "import java.io.IOException;\n",
    "\n",
    "import org.knowm.xchart.BubbleChart;\n",
    "import org.knowm.xchart.BubbleChartBuilder;\n",
    "import org.knowm.xchart.SwingWrapper;\n",
    "import org.knowm.xchart.BitmapEncoder;\n",
    "import org.knowm.xchart.BitmapEncoder.BitmapFormat;\n",
    "\n",
    "import com.twosigma.beakerx.mimetype.MIMEContainer;\n",
    "import java.io.File;\n",
    "import java.nio.file.Files;\n",
    "\n",
    "import pt.c08componentes.s20catalog.s00shared.*;\n",
    "import pt.c08componentes.s20catalog.s50chart.IChart;\n",
    "\n",
    "public class ChartBubbleComponent implements IChart {\n",
    "  private BubbleChart chart = null;\n",
    "\n",
    "  private String title = \"Chart\";\n",
    "  private String xTitle = \"X\",\n",
    "                 yTitle = \"Y\";\n",
    "\n",
    "  private ITableProducer producer = null;\n",
    " \n",
    "  public void connect(ITableProducer producer) {\n",
    "    this.producer = producer;\n",
    "  }\n",
    "  \n",
    "  public ChartBubbleComponent() {\n",
    "  }\n",
    "  \n",
    "  public String getTitle() {\n",
    "    return title;\n",
    "  }\n",
    "  \n",
    "  public void setTitle(String title) {\n",
    "    this.title = title;\n",
    "  }\n",
    "\n",
    "  public String getXTitle() {\n",
    "    return xTitle;\n",
    "  }\n",
    "  \n",
    "  public void setXTitle(String title) {\n",
    "    xTitle = title;\n",
    "  }\n",
    "\n",
    "  public String getYTitle() {\n",
    "    return title;\n",
    "  }\n",
    "  \n",
    "  public void setYTitle(String title) {\n",
    "    yTitle = title;\n",
    "  }\n",
    "\n",
    "  public boolean start() {\n",
    "    boolean status = true;\n",
    "    \n",
    "    chart = new BubbleChartBuilder().width(600).height(400).title(title).xAxisTitle(xTitle).yAxisTitle(yTitle).build();\n",
    "    try{\n",
    "        \n",
    "        buildChart();         \n",
    "        BitmapEncoder.saveBitmap(chart, \"./chart\", BitmapFormat.PNG);\n",
    "        \n",
    "        File file = new File(\"chart.png\");\n",
    "        byte[] data = Files.readAllBytes(file.toPath());\n",
    "    \n",
    "        MIMEContainer image = new MIMEContainer(MIMEContainer.MIME.IMAGE_PNG, data);\n",
    "        display(image);\n",
    "      }catch(IOException ex){\n",
    "        status = false;\n",
    "        System.out.println (ex.toString());      \n",
    "      }\n",
    "        \n",
    "    return status;\n",
    "  }\n",
    "  \n",
    "  public boolean stop() {\n",
    "    return true;\n",
    "  }\n",
    "  \n",
    "  public double[] toDouble(String[][] instances, int column ) {\n",
    "    double[] numbers = new double[instances.length];\n",
    "    for (int i = 0; i < instances.length; i++)\n",
    "      numbers[i] = Double.parseDouble(instances[i][column]);\n",
    "    return numbers;\n",
    "  }\n",
    "\n",
    "  private void buildChart() {\n",
    "    if (chart != null && producer != null) {\n",
    "      String[][] instances = producer.requestInstances();\n",
    "\n",
    "      if (instances != null) {\n",
    "        double[] xData = toDouble(instances, 0),\n",
    "                 yData = toDouble(instances, 1);\n",
    "        \n",
    "        String[] categoryData = null;\n",
    "        if (instances[0].length > 2) {\n",
    "          categoryData = new String[instances.length];\n",
    "          for (int c = 0; c < instances.length; c++)\n",
    "            categoryData[c] = instances[c][2];\n",
    "        }\n",
    "        \n",
    "        double[] bubbleData = null;\n",
    "        if (instances[0].length > 3)\n",
    "          bubbleData = toDouble(producer.requestInstances(), 3);\n",
    "        else {\n",
    "          bubbleData = new double[instances.length];\n",
    "          for (int i = 0; i < xData.length; i++)\n",
    "            bubbleData[i] = 10;\n",
    "        }\n",
    "          \n",
    "        \n",
    "        if (categoryData == null ||\n",
    "            xData.length != yData.length || yData.length != bubbleData.length ||\n",
    "            bubbleData.length != categoryData.length) {\n",
    "          chart.addSeries(\" \", xData, yData, bubbleData);\n",
    "        } else {\n",
    "          Hashtable<String,String> hash = new Hashtable<String,String>();\n",
    "          int outer = 0;\n",
    "          int size = categoryData.length;\n",
    "          while (outer < size) {\n",
    "            if (hash.containsKey(categoryData[outer]))\n",
    "              outer++;\n",
    "            else {\n",
    "              hash.put(categoryData[outer],categoryData[outer]);\n",
    "              List<Double> xSub = new ArrayList<Double>(),\n",
    "                           ySub = new ArrayList<Double>(),\n",
    "                           bubbleSub = new ArrayList<Double>();\n",
    "              for (int inner = outer; inner < size; inner++)\n",
    "                if (categoryData[inner].equalsIgnoreCase(categoryData[outer])) {\n",
    "                  xSub.add(xData[inner]);\n",
    "                  ySub.add(yData[inner]);\n",
    "                  bubbleSub.add(bubbleData[inner]);\n",
    "                }\n",
    "              chart.addSeries(categoryData[outer], xSub, ySub, bubbleSub);\n",
    "              outer++;\n",
    "            }\n",
    "          }\n",
    "        }\n",
    "      }\n",
    "      \n",
    "    }\n",
    "    \n",
    "  }\n",
    "  \n",
    "}"
   ]
  },
  {
   "cell_type": "markdown",
   "metadata": {},
   "source": [
    "## Tarefa\n",
    "\n",
    "Conecte os componentes que você achar necessários para apresentar um gráfico comparativo entre idade e tempo de recuperação dos zumbis, conforme exemplo abaixo.\n",
    "\n",
    "![Graph](example1.png)"
   ]
  },
  {
   "cell_type": "code",
   "execution_count": 10,
   "metadata": {},
   "outputs": [
    {
     "data": {
      "image/png": "[encoded data removed]"
     },
     "metadata": {},
     "output_type": "display_data"
    },
    {
     "data": {
      "text/plain": [
       "null"
      ]
     },
     "execution_count": 10,
     "metadata": {},
     "output_type": "execute_result"
    }
   ],
   "source": [
    "import pt.c08componentes.s20catalog.s10ds.*;\n",
    "import pt.c08componentes.s20catalog.s30projection.*;\n",
    "import pt.c08componentes.s20catalog.s50chart.IChart;\n",
    "\n",
    "IDataSet dataset = new DataSetComponent();\n",
    "dataset.setDataSource(\"../../../db/zombie/zombie-health-spreadsheet.csv\");\n",
    "\n",
    "IProjection projection = new ProjectionComponent();\n",
    "String[] nome = {\"days_recovery\", \"age\"};\t\n",
    "projection.setAttributes(nome);\n",
    "projection.connect(dataset);\n",
    "\n",
    "IChart graph = new ChartBubbleComponent();\n",
    "graph.setTitle(\"ZombieHealth\");\n",
    "graph.setYTitle(\"Days_Recovery\");\n",
    "graph.setXTitle(\"Age\");\n",
    "\n",
    "graph.connect(projection);\n",
    "\n",
    "graph.start();"
   ]
  },
  {
   "cell_type": "markdown",
   "metadata": {},
   "source": [
    "## Tarefa\n",
    "\n",
    "Conecte os componentes que você achar necessários para apresentar um gráfico comparativo entre idade e tempo de recuperação dos zumbis, colorindo os pontos por diagnóstico, conforme exemplo abaixo.\n",
    "\n",
    "**Recomendação:** Se você recortar uma terceira coluna com o diagnóstico, o gráfico resultante irá colorir os pontos por diagnóstico.\n",
    "\n",
    "![Graph](example2.png)"
   ]
  },
  {
   "cell_type": "code",
   "execution_count": 11,
   "metadata": {},
   "outputs": [
    {
     "data": {
      "image/png": "[encoded data removed]"
     },
     "metadata": {},
     "output_type": "display_data"
    },
    {
     "data": {
      "text/plain": [
       "null"
      ]
     },
     "execution_count": 11,
     "metadata": {},
     "output_type": "execute_result"
    }
   ],
   "source": [
    "import pt.c08componentes.s20catalog.s10ds.*;\n",
    "import pt.c08componentes.s20catalog.s30projection.*;\n",
    "import pt.c08componentes.s20catalog.s50chart.IChart;\n",
    "\n",
    "IDataSet dataset = new DataSetComponent();\n",
    "dataset.setDataSource(\"../../../db/zombie/zombie-health-spreadsheet.csv\");\n",
    "\n",
    "IProjection projection = new ProjectionComponent();\n",
    "String[] nome = {\"days_recovery\", \"age\", \"diagnostic\"};\t\n",
    "projection.setAttributes(nome);\n",
    "projection.connect(dataset);\n",
    "\n",
    "IChart graph = new ChartBubbleComponent();\n",
    "graph.setTitle(\"ZombieHealth\");\n",
    "graph.setYTitle(\"Days_Recovery\");\n",
    "graph.setXTitle(\"Age\");\n",
    "\n",
    "graph.connect(projection);\n",
    "\n",
    "graph.start();\n"
   ]
  },
  {
   "cell_type": "markdown",
   "metadata": {},
   "source": [
    "# Tarefa\n",
    "\n",
    "Conecte os componentes que você achar necessários para apresentar um gráfico comparativo entre idade e tempo de recuperação, filtrando apenas a doença “bacterial_infection”."
   ]
  },
  {
   "cell_type": "code",
   "execution_count": 12,
   "metadata": {},
   "outputs": [
    {
     "data": {
      "image/png": "[encoded data removed]"
     },
     "metadata": {},
     "output_type": "display_data"
    },
    {
     "data": {
      "text/plain": [
       "null"
      ]
     },
     "execution_count": 12,
     "metadata": {},
     "output_type": "execute_result"
    }
   ],
   "source": [
    "import pt.c08componentes.s20catalog.s10ds.*;\n",
    "import pt.c08componentes.s20catalog.s30projection.*;\n",
    "import pt.c08componentes.s20catalog.s40selection.*;\n",
    "import pt.c08componentes.s20catalog.s50chart.IChart;\n",
    "\n",
    "IDataSet dataset = new DataSetComponent();\n",
    "dataset.setDataSource(\"../../../db/zombie/zombie-health-spreadsheet.csv\");\n",
    "\n",
    "ISelection selectionp = new SelectionComponent();\n",
    "selectionp.setAttribute(\"diagnostic\");\n",
    "selectionp.setOperator(\"=\");\n",
    "selectionp.setValue(\"bacterial_infection\");\n",
    "selectionp.connect(dataset);\n",
    "\n",
    "IProjection projection = new ProjectionComponent();\n",
    "String[] nome = {\"days_recovery\", \"age\", \"diagnostic\"};\t\n",
    "projection.setAttributes(nome);\n",
    "projection.connect(selectionp);\n",
    "\n",
    "IChart graph = new ChartBubbleComponent();\n",
    "graph.setTitle(\"ZombieHealth\");\n",
    "graph.setYTitle(\"Days_Recovery\");\n",
    "graph.setXTitle(\"Age\");\n",
    "\n",
    "graph.connect(projection);\n",
    "\n",
    "graph.start();\n"
   ]
  },
  {
   "cell_type": "code",
   "execution_count": null,
   "metadata": {},
   "outputs": [],
   "source": []
  }
 ],
 "metadata": {
  "kernelspec": {
   "display_name": "Java",
   "language": "java",
   "name": "java"
  },
  "language_info": {
   "codemirror_mode": "text/x-java",
   "file_extension": ".java",
   "mimetype": "",
   "name": "Java",
   "nbconverter_exporter": "",
   "version": "11.0.8"
  },
  "toc": {
   "base_numbering": 1,
   "nav_menu": {},
   "number_sections": false,
   "sideBar": false,
   "skip_h1_title": false,
   "title_cell": "Table of Contents",
   "title_sidebar": "Contents",
   "toc_cell": false,
   "toc_position": {},
   "toc_section_display": false,
   "toc_window_display": false
  }
 },
 "nbformat": 4,
 "nbformat_minor": 4
}
